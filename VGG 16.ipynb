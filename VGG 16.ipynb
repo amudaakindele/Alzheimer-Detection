{
 "cells": [
  {
   "cell_type": "code",
   "execution_count": 1,
   "metadata": {},
   "outputs": [],
   "source": [
    "import numpy as np\n",
    "import pandas as pd\n",
    "import matplotlib.pyplot as plt\n",
    "import seaborn as sn\n",
    "import skimage.io\n",
    "import os \n",
    "\n",
    "\n",
    "from tqdm import tqdm\n",
    "from sklearn.utils import shuffle\n",
    "from sklearn import metrics\n",
    "\n",
    "from sklearn.metrics import confusion_matrix, classification_report\n",
    "from sklearn.model_selection import train_test_split\n",
    "\n",
    "\n",
    "\n",
    "import tensorflow as tf\n",
    "from keras.preprocessing.image import ImageDataGenerator\n",
    "\n",
    "\n",
    "from tensorflow.keras.models import Sequential\n",
    "from tensorflow.keras.layers import InputLayer, BatchNormalization, Dropout, Flatten, Dense, Activation, MaxPooling2D, Conv2D\n",
    "from tensorflow.keras.callbacks import EarlyStopping, ModelCheckpoint\n",
    "\n",
    "from tensorflow.keras.utils import to_categorical\n",
    "from keras import optimizers\n",
    "import keras.backend as K\n",
    "\n",
    "from tensorflow.keras.utils import Sequence\n",
    "\n",
    "from keras.callbacks import Callback,ModelCheckpoint\n",
    "from keras.models import Sequential,load_model\n",
    "from keras.layers import Dense, Dropout\n",
    "\n",
    "\n",
    "\n"
   ]
  },
  {
   "cell_type": "code",
   "execution_count": 2,
   "metadata": {},
   "outputs": [],
   "source": [
    "train_directory = '/Users/KAMAR/Videos/ML/Alzheimer_s Dataset/train/'\n",
    "test_directory = '/Users/KAMAR/Videos/ML/Alzheimer_s Dataset/test'"
   ]
  },
  {
   "cell_type": "code",
   "execution_count": 3,
   "metadata": {},
   "outputs": [],
   "source": [
    "train_Mild_Demented_dir = os.path.join(train_directory, 'Mild_Demented')  # directory with our training Demented pictures\n",
    "train_Moderate_Demented_dir = os.path.join(train_directory, 'Moderate_Demented')# directory with our training NonDemented pictures\n",
    "train_Non_Demented_dir = os.path.join(train_directory,'Non_Demented')\n",
    "train_Very_Mild_Demented_dir = os.path.join(train_directory,'Very_Mild_Demented')\n",
    "test_Mild_Demented_dir = os.path.join(test_directory, 'Mild_Demented')  # directory with our validation Demented pictures\n",
    "test_Moderate_Demented_dir = os.path.join(test_directory, 'Moderate_Demented')  # directory with our validation NonDemented pictures\n",
    "test_Non_Demented_dir = os.path.join(test_directory, 'Non_Demented')\n",
    "test_Very_Mild_Demented_dir = os.path.join(test_directory, 'Very_Mild_Demented')"
   ]
  },
  {
   "cell_type": "code",
   "execution_count": 4,
   "metadata": {},
   "outputs": [],
   "source": [
    "num_Mild_Demented_tr = len(os.listdir(train_Mild_Demented_dir))\n",
    "num_Moderate_Demented_tr = len(os.listdir(train_Moderate_Demented_dir))\n",
    "num_Non_Demented_tr = len(os.listdir(train_Non_Demented_dir))\n",
    "num_Very_Mild_Demented_tr = len(os.listdir(train_Very_Mild_Demented_dir))\n",
    "\n",
    "num_Mild_Demented_te = len(os.listdir(test_Mild_Demented_dir))\n",
    "num_Moderate_Demented_te = len(os.listdir(test_Moderate_Demented_dir))\n",
    "num_Non_Demented_te = len(os.listdir(test_Non_Demented_dir))\n",
    "num_Very_Mild_Demented_te = len(os.listdir(test_Very_Mild_Demented_dir))"
   ]
  },
  {
   "cell_type": "code",
   "execution_count": 5,
   "metadata": {},
   "outputs": [],
   "source": [
    "total_train = num_Mild_Demented_tr + num_Moderate_Demented_tr + num_Non_Demented_tr + num_Very_Mild_Demented_tr\n",
    "total_test = num_Mild_Demented_te + num_Moderate_Demented_te + num_Non_Demented_te + num_Very_Mild_Demented_te"
   ]
  },
  {
   "cell_type": "code",
   "execution_count": 6,
   "metadata": {},
   "outputs": [
    {
     "name": "stdout",
     "output_type": "stream",
     "text": [
      "total training Mild Demented images: 717\n",
      "total training Moderte Demented images: 52\n",
      "total training Non Demented images: 2560\n",
      "total training Very Mild Demented images: 1792\n",
      "total validation Mild Demented images: 179\n",
      "total validation Moderate Demented images: 12\n",
      "total validation Non Demented images: 640\n",
      "total validation Very Mild Demented images: 448\n",
      "--\n",
      "Total training images: 5121\n",
      "Total validation images: 1279\n"
     ]
    }
   ],
   "source": [
    "print('total training Mild Demented images:', num_Mild_Demented_tr)\n",
    "print('total training Moderte Demented images:', num_Moderate_Demented_tr)\n",
    "print('total training Non Demented images:', num_Non_Demented_tr)\n",
    "print('total training Very Mild Demented images:', num_Very_Mild_Demented_tr)\n",
    "\n",
    "print('total validation Mild Demented images:', num_Mild_Demented_te)\n",
    "print('total validation Moderate Demented images:', num_Moderate_Demented_te)\n",
    "print('total validation Non Demented images:', num_Non_Demented_te)\n",
    "print('total validation Very Mild Demented images:', num_Very_Mild_Demented_te)\n",
    "\n",
    "print(\"--\")\n",
    "print(\"Total training images:\", total_train)\n",
    "print(\"Total validation images:\", total_test)"
   ]
  },
  {
   "cell_type": "code",
   "execution_count": 7,
   "metadata": {},
   "outputs": [],
   "source": [
    "# re-size all the images to this\n",
    "image_size= [150,150]\n",
    "batch_size =128\n",
    "epochs =10"
   ]
  },
  {
   "cell_type": "code",
   "execution_count": 8,
   "metadata": {},
   "outputs": [],
   "source": [
    "train_datagen = ImageDataGenerator(rescale = 1./255,\n",
    "                                   validation_split = 0.2,\n",
    "                                  \n",
    "        rotation_range=10,\n",
    "        width_shift_range=0.2,\n",
    "        height_shift_range=0.2,\n",
    "        shear_range=0.2,\n",
    "        zoom_range=0.2,\n",
    "        horizontal_flip=True,\n",
    "        vertical_flip=True,\n",
    "        fill_mode='nearest')\n",
    "\n",
    "valid_datagen= ImageDataGenerator(rescale = 1./255,\n",
    "                                  validation_split = 0.2)\n",
    "\n",
    "test_datagen  = ImageDataGenerator(rescale = 1./255\n",
    "                                  )"
   ]
  },
  {
   "cell_type": "code",
   "execution_count": 9,
   "metadata": {},
   "outputs": [
    {
     "name": "stdout",
     "output_type": "stream",
     "text": [
      "Found 4098 images belonging to 4 classes.\n"
     ]
    }
   ],
   "source": [
    "train_dataset = train_datagen.flow_from_directory(batch_size=batch_size, directory=train_directory,\n",
    "                                                           shuffle=True,subset = 'training',\n",
    "                                                           target_size=image_size,\n",
    "                                                            class_mode = 'categorical')\n",
    "\n",
    "\n",
    "\n"
   ]
  },
  {
   "cell_type": "code",
   "execution_count": 10,
   "metadata": {},
   "outputs": [
    {
     "name": "stdout",
     "output_type": "stream",
     "text": [
      "Found 1023 images belonging to 4 classes.\n"
     ]
    }
   ],
   "source": [
    "valid_dataset = valid_datagen.flow_from_directory(batch_size=batch_size, directory=train_directory,\n",
    "                                                           shuffle=True,subset = 'validation',\n",
    "                                                           target_size=image_size,\n",
    "                                                            class_mode = 'categorical')"
   ]
  },
  {
   "cell_type": "code",
   "execution_count": 11,
   "metadata": {},
   "outputs": [
    {
     "name": "stdout",
     "output_type": "stream",
     "text": [
      "Found 1279 images belonging to 4 classes.\n"
     ]
    }
   ],
   "source": [
    "test_dataset = test_datagen.flow_from_directory(directory = test_directory,\n",
    "                                                  target_size =image_size,\n",
    "                                                  class_mode = 'categorical',\n",
    "                                                  batch_size =batch_size)"
   ]
  },
  {
   "cell_type": "code",
   "execution_count": 12,
   "metadata": {},
   "outputs": [],
   "source": [
    "from keras.applications.vgg16 import VGG16\n",
    "base_model = VGG16(input_shape=image_size + [3], weights='imagenet', include_top=False)"
   ]
  },
  {
   "cell_type": "code",
   "execution_count": 13,
   "metadata": {},
   "outputs": [],
   "source": [
    "model=Sequential()\n",
    "model.add(base_model)\n",
    "model.add(Dropout(0.5))\n",
    "model.add(Flatten())\n",
    "model.add(BatchNormalization())\n",
    "model.add(Dense(1024,kernel_initializer='he_uniform'))\n",
    "model.add(BatchNormalization())\n",
    "model.add(Activation('relu'))\n",
    "model.add(Dropout(0.5))\n",
    "model.add(Dense(1024,kernel_initializer='he_uniform'))\n",
    "model.add(BatchNormalization())\n",
    "model.add(Activation('relu'))\n",
    "model.add(Dropout(0.5))\n",
    "model.add(Dense(1024,kernel_initializer='he_uniform'))\n",
    "model.add(BatchNormalization())\n",
    "model.add(Activation('relu'))\n",
    "model.add(Dropout(0.5))\n",
    "model.add(Dense(4,activation='softmax'))"
   ]
  },
  {
   "cell_type": "code",
   "execution_count": 14,
   "metadata": {},
   "outputs": [],
   "source": [
    "for layer in base_model.layers:\n",
    "  layer.trainable = False"
   ]
  },
  {
   "cell_type": "code",
   "execution_count": 15,
   "metadata": {},
   "outputs": [
    {
     "name": "stdout",
     "output_type": "stream",
     "text": [
      "Model: \"sequential\"\n",
      "_________________________________________________________________\n",
      "Layer (type)                 Output Shape              Param #   \n",
      "=================================================================\n",
      "vgg16 (Functional)           (None, 4, 4, 512)         14714688  \n",
      "_________________________________________________________________\n",
      "dropout (Dropout)            (None, 4, 4, 512)         0         \n",
      "_________________________________________________________________\n",
      "flatten (Flatten)            (None, 8192)              0         \n",
      "_________________________________________________________________\n",
      "batch_normalization (BatchNo (None, 8192)              32768     \n",
      "_________________________________________________________________\n",
      "dense (Dense)                (None, 1024)              8389632   \n",
      "_________________________________________________________________\n",
      "batch_normalization_1 (Batch (None, 1024)              4096      \n",
      "_________________________________________________________________\n",
      "activation (Activation)      (None, 1024)              0         \n",
      "_________________________________________________________________\n",
      "dropout_1 (Dropout)          (None, 1024)              0         \n",
      "_________________________________________________________________\n",
      "dense_1 (Dense)              (None, 1024)              1049600   \n",
      "_________________________________________________________________\n",
      "batch_normalization_2 (Batch (None, 1024)              4096      \n",
      "_________________________________________________________________\n",
      "activation_1 (Activation)    (None, 1024)              0         \n",
      "_________________________________________________________________\n",
      "dropout_2 (Dropout)          (None, 1024)              0         \n",
      "_________________________________________________________________\n",
      "dense_2 (Dense)              (None, 1024)              1049600   \n",
      "_________________________________________________________________\n",
      "batch_normalization_3 (Batch (None, 1024)              4096      \n",
      "_________________________________________________________________\n",
      "activation_2 (Activation)    (None, 1024)              0         \n",
      "_________________________________________________________________\n",
      "dropout_3 (Dropout)          (None, 1024)              0         \n",
      "_________________________________________________________________\n",
      "dense_3 (Dense)              (None, 4)                 4100      \n",
      "=================================================================\n",
      "Total params: 25,252,676\n",
      "Trainable params: 10,515,460\n",
      "Non-trainable params: 14,737,216\n",
      "_________________________________________________________________\n"
     ]
    }
   ],
   "source": [
    "# view the structure of the model\n",
    "model.summary()"
   ]
  },
  {
   "cell_type": "code",
   "execution_count": 16,
   "metadata": {},
   "outputs": [],
   "source": [
    "def f1_score(y_true, y_pred): #taken from old keras source code\n",
    "    true_positives = K.sum(K.round(K.clip(y_true * y_pred, 0, 1)))\n",
    "    possible_positives = K.sum(K.round(K.clip(y_true, 0, 1)))\n",
    "    predicted_positives = K.sum(K.round(K.clip(y_pred, 0, 1)))\n",
    "    precision = true_positives / (predicted_positives + K.epsilon())\n",
    "    recall = true_positives / (possible_positives + K.epsilon())\n",
    "    f1_val = 2*(precision*recall)/(precision+recall+K.epsilon())\n",
    "    return f1_val"
   ]
  },
  {
   "cell_type": "code",
   "execution_count": 17,
   "metadata": {},
   "outputs": [],
   "source": [
    "METRICS = [\n",
    "      tf.keras.metrics.BinaryAccuracy(name='accuracy'),\n",
    "      tf.keras.metrics.Precision(name='precision'),\n",
    "      tf.keras.metrics.Recall(name='recall'),  \n",
    "      tf.keras.metrics.AUC(name='auc'),\n",
    "        f1_score,\n",
    "]"
   ]
  },
  {
   "cell_type": "code",
   "execution_count": 18,
   "metadata": {},
   "outputs": [],
   "source": [
    "def exponential_decay(lr0, s):\n",
    "    def exponential_decay_fn(epoch):\n",
    "        return lr0 * 0.1 **(epoch / s)\n",
    "    return exponential_decay_fn\n",
    "\n",
    "exponential_decay_fn = exponential_decay(0.01, 5) # when i run it for 50 epochs\n",
    "\n",
    "lr_scheduler = tf.keras.callbacks.LearningRateScheduler(exponential_decay_fn)"
   ]
  },
  {
   "cell_type": "code",
   "execution_count": 19,
   "metadata": {},
   "outputs": [],
   "source": [
    "model.compile(optimizer=tf.keras.optimizers.Adam(\n",
    "    learning_rate=0.001, beta_1=0.9, beta_2=0.999, epsilon=1e-07, amsgrad=False,\n",
    "    name='Adam',), loss='categorical_crossentropy',metrics=METRICS)"
   ]
  },
  {
   "cell_type": "code",
   "execution_count": 20,
   "metadata": {},
   "outputs": [
    {
     "name": "stdout",
     "output_type": "stream",
     "text": [
      "Epoch 1/10\n",
      "33/33 [==============================] - 914s 28s/step - loss: 1.9423 - accuracy: 0.7157 - precision: 0.4213 - recall: 0.3673 - auc: 0.7164 - f1_score: 0.3939 - val_loss: 2.4676 - val_accuracy: 0.6249 - val_precision: 0.1156 - val_recall: 0.0753 - val_auc: 0.3830 - val_f1_score: 0.0903\n",
      "Epoch 2/10\n",
      "33/33 [==============================] - 993s 30s/step - loss: 1.2489 - accuracy: 0.7446 - precision: 0.4858 - recall: 0.3721 - auc: 0.7521 - f1_score: 0.4077 - val_loss: 1.0570 - val_accuracy: 0.7627 - val_precision: 0.5588 - val_recall: 0.2414 - val_auc: 0.7777 - val_f1_score: 0.3359\n",
      "Epoch 3/10\n",
      "33/33 [==============================] - 870s 26s/step - loss: 1.1791 - accuracy: 0.7554 - precision: 0.5145 - recall: 0.3812 - auc: 0.7741 - f1_score: 0.4389 - val_loss: 1.0842 - val_accuracy: 0.7835 - val_precision: 0.6877 - val_recall: 0.2454 - val_auc: 0.7350 - val_f1_score: 0.3614\n",
      "Epoch 4/10\n",
      "33/33 [==============================] - 870s 26s/step - loss: 1.0984 - accuracy: 0.7631 - precision: 0.5372 - recall: 0.3785 - auc: 0.7882 - f1_score: 0.4454 - val_loss: 1.0685 - val_accuracy: 0.7845 - val_precision: 0.7156 - val_recall: 0.2287 - val_auc: 0.7424 - val_f1_score: 0.3462\n",
      "Epoch 5/10\n",
      "33/33 [==============================] - 981s 30s/step - loss: 1.0879 - accuracy: 0.7635 - precision: 0.5393 - recall: 0.3702 - auc: 0.7885 - f1_score: 0.4406 - val_loss: 1.0300 - val_accuracy: 0.7840 - val_precision: 0.6844 - val_recall: 0.2522 - val_auc: 0.7811 - val_f1_score: 0.3677\n",
      "Epoch 6/10\n",
      "33/33 [==============================] - 918s 28s/step - loss: 1.0487 - accuracy: 0.7675 - precision: 0.5536 - recall: 0.3614 - auc: 0.7956 - f1_score: 0.4533 - val_loss: 1.0139 - val_accuracy: 0.7847 - val_precision: 0.6524 - val_recall: 0.2972 - val_auc: 0.7915 - val_f1_score: 0.4069\n",
      "Epoch 7/10\n",
      "33/33 [==============================] - 933s 28s/step - loss: 1.0240 - accuracy: 0.7753 - precision: 0.5794 - recall: 0.3694 - auc: 0.8038 - f1_score: 0.4524 - val_loss: 1.0238 - val_accuracy: 0.7845 - val_precision: 0.6466 - val_recall: 0.3040 - val_auc: 0.7779 - val_f1_score: 0.4127\n",
      "Epoch 8/10\n",
      "33/33 [==============================] - 1228s 37s/step - loss: 1.0403 - accuracy: 0.7699 - precision: 0.5628 - recall: 0.3575 - auc: 0.7965 - f1_score: 0.4239 - val_loss: 1.0170 - val_accuracy: 0.7859 - val_precision: 0.6644 - val_recall: 0.2903 - val_auc: 0.7863 - val_f1_score: 0.4036\n",
      "Epoch 9/10\n",
      "33/33 [==============================] - 867s 26s/step - loss: 1.0124 - accuracy: 0.7781 - precision: 0.5861 - recall: 0.3829 - auc: 0.8090 - f1_score: 0.4489 - val_loss: 1.0213 - val_accuracy: 0.7815 - val_precision: 0.6532 - val_recall: 0.2688 - val_auc: 0.7898 - val_f1_score: 0.3792\n",
      "Epoch 10/10\n",
      "33/33 [==============================] - 859s 26s/step - loss: 1.0241 - accuracy: 0.7739 - precision: 0.5751 - recall: 0.3663 - auc: 0.8041 - f1_score: 0.4490 - val_loss: 1.0175 - val_accuracy: 0.7881 - val_precision: 0.6814 - val_recall: 0.2864 - val_auc: 0.7884 - val_f1_score: 0.4022\n"
     ]
    }
   ],
   "source": [
    "history = model.fit( train_dataset, epochs=epochs,\n",
    "                    validation_data=valid_dataset, \n",
    "                    verbose=1, callbacks = lr_scheduler)"
   ]
  },
  {
   "cell_type": "code",
   "execution_count": 21,
   "metadata": {},
   "outputs": [
    {
     "data": {
      "image/png": "[encoded data removed]",
      "text/plain": [
       "<Figure size 1440x360 with 5 Axes>"
      ]
     },
     "metadata": {
      "needs_background": "light"
     },
     "output_type": "display_data"
    }
   ],
   "source": [
    "#%% PLOTTING RESULTS (Train vs Validation FOLDER 1)\n",
    "\n",
    "def Train_Val_Plot(acc,val_acc,loss,val_loss,auc,val_auc,precision,val_precision,f1,val_f1):\n",
    "    \n",
    "    fig, (ax1, ax2,ax3,ax4,ax5) = plt.subplots(1,5, figsize= (20,5))\n",
    "    fig.suptitle(\" MODEL'S METRICS VISUALIZATION \")\n",
    "\n",
    "    ax1.plot(range(1, len(acc) + 1), acc)\n",
    "    ax1.plot(range(1, len(val_acc) + 1), val_acc)\n",
    "    ax1.set_title('History of Accuracy')\n",
    "    ax1.set_xlabel('Epochs')\n",
    "    ax1.set_ylabel('Accuracy')\n",
    "    ax1.legend(['training', 'validation'])\n",
    "\n",
    "\n",
    "    ax2.plot(range(1, len(loss) + 1), loss)\n",
    "    ax2.plot(range(1, len(val_loss) + 1), val_loss)\n",
    "    ax2.set_title('History of Loss')\n",
    "    ax2.set_xlabel('Epochs')\n",
    "    ax2.set_ylabel('Loss')\n",
    "    ax2.legend(['training', 'validation'])\n",
    "    \n",
    "    ax3.plot(range(1, len(auc) + 1), auc)\n",
    "    ax3.plot(range(1, len(val_auc) + 1), val_auc)\n",
    "    ax3.set_title('History of AUC')\n",
    "    ax3.set_xlabel('Epochs')\n",
    "    ax3.set_ylabel('AUC')\n",
    "    ax3.legend(['training', 'validation'])\n",
    "    \n",
    "    ax4.plot(range(1, len(precision) + 1), precision)\n",
    "    ax4.plot(range(1, len(val_precision) + 1), val_precision)\n",
    "    ax4.set_title('History of Precision')\n",
    "    ax4.set_xlabel('Epochs')\n",
    "    ax4.set_ylabel('Precision')\n",
    "    ax4.legend(['training', 'validation'])\n",
    "    \n",
    "    ax5.plot(range(1, len(f1) + 1), f1)\n",
    "    ax5.plot(range(1, len(val_f1) + 1), val_f1)\n",
    "    ax5.set_title('History of F1-score')\n",
    "    ax5.set_xlabel('Epochs')\n",
    "    ax5.set_ylabel('F1 score')\n",
    "    ax5.legend(['training', 'validation'])\n",
    "\n",
    "\n",
    "    plt.show()\n",
    "    \n",
    "\n",
    "Train_Val_Plot(history.history['accuracy'],history.history['val_accuracy'],\n",
    "               history.history['loss'],history.history['val_loss'],\n",
    "               history.history['auc'],history.history['val_auc'],\n",
    "               history.history['precision'],history.history['val_precision'],\n",
    "               history.history['f1_score'],history.history['val_f1_score']\n",
    "              )"
   ]
  },
  {
   "cell_type": "code",
   "execution_count": 22,
   "metadata": {},
   "outputs": [
    {
     "name": "stdout",
     "output_type": "stream",
     "text": [
      "10/10 [==============================] - 205s 21s/step - loss: 1.0213 - accuracy: 0.7740 - precision: 0.5708 - recall: 0.3878 - auc: 0.8122 - f1_score: 0.4617\n"
     ]
    }
   ],
   "source": [
    "scores = model.evaluate(test_dataset)"
   ]
  },
  {
   "cell_type": "code",
   "execution_count": 23,
   "metadata": {},
   "outputs": [
    {
     "name": "stdout",
     "output_type": "stream",
     "text": [
      "Accuracy =  0.7740422487258911\n",
      "Precision =  0.5707709789276123\n",
      "Recall =  0.38780295848846436\n",
      "AUC =  0.8121750950813293\n",
      "F1_score =  0.46172255277633667\n"
     ]
    }
   ],
   "source": [
    "print(\"Accuracy = \", scores[1])\n",
    "print(\"Precision = \", scores[2])\n",
    "print(\"Recall = \", scores[3])\n",
    "print(\"AUC = \", scores[4])\n",
    "print(\"F1_score = \", scores[5])"
   ]
  },
  {
   "cell_type": "code",
   "execution_count": 24,
   "metadata": {},
   "outputs": [],
   "source": [
    "from keras.models import model_from_json\n",
    "model_json = model.to_json()\n",
    "with open('model.json','w') as json_file:\n",
    "    json_file.write(model_json)\n",
    "model.save_weights('modelvgg16.h5')"
   ]
  },
  {
   "cell_type": "code",
   "execution_count": null,
   "metadata": {},
   "outputs": [],
   "source": []
  },
  {
   "cell_type": "code",
   "execution_count": null,
   "metadata": {},
   "outputs": [],
   "source": []
  },
  {
   "cell_type": "code",
   "execution_count": null,
   "metadata": {},
   "outputs": [],
   "source": []
  },
  {
   "cell_type": "code",
   "execution_count": null,
   "metadata": {},
   "outputs": [],
   "source": []
  },
  {
   "cell_type": "code",
   "execution_count": null,
   "metadata": {},
   "outputs": [],
   "source": []
  },
  {
   "cell_type": "code",
   "execution_count": null,
   "metadata": {},
   "outputs": [],
   "source": []
  },
  {
   "cell_type": "code",
   "execution_count": null,
   "metadata": {},
   "outputs": [],
   "source": []
  },
  {
   "cell_type": "code",
   "execution_count": null,
   "metadata": {},
   "outputs": [],
   "source": []
  },
  {
   "cell_type": "code",
   "execution_count": null,
   "metadata": {},
   "outputs": [],
   "source": []
  },
  {
   "cell_type": "code",
   "execution_count": null,
   "metadata": {},
   "outputs": [],
   "source": []
  },
  {
   "cell_type": "code",
   "execution_count": null,
   "metadata": {},
   "outputs": [],
   "source": []
  },
  {
   "cell_type": "code",
   "execution_count": null,
   "metadata": {},
   "outputs": [],
   "source": []
  },
  {
   "cell_type": "code",
   "execution_count": null,
   "metadata": {},
   "outputs": [],
   "source": []
  },
  {
   "cell_type": "code",
   "execution_count": null,
   "metadata": {},
   "outputs": [],
   "source": []
  }
 ],
 "metadata": {
  "kernelspec": {
   "display_name": "Python 3",
   "language": "python",
   "name": "python3"
  },
  "language_info": {
   "codemirror_mode": {
    "name": "ipython",
    "version": 3
   },
   "file_extension": ".py",
   "mimetype": "text/x-python",
   "name": "python",
   "nbconvert_exporter": "python",
   "pygments_lexer": "ipython3",
   "version": "3.6.5"
  }
 },
 "nbformat": 4,
 "nbformat_minor": 4
}
