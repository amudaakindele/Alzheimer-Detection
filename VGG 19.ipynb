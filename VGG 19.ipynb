{
 "cells": [
  {
   "cell_type": "code",
   "execution_count": 1,
   "metadata": {},
   "outputs": [],
   "source": [
    "import numpy as np\n",
    "import pandas as pd\n",
    "import matplotlib.pyplot as plt\n",
    "import seaborn as sn\n",
    "import skimage.io\n",
    "import os \n",
    "\n",
    "\n",
    "from tqdm import tqdm\n",
    "from sklearn.utils import shuffle\n",
    "from sklearn import metrics\n",
    "\n",
    "from sklearn.metrics import confusion_matrix, classification_report\n",
    "from sklearn.model_selection import train_test_split\n",
    "\n",
    "\n",
    "\n",
    "import tensorflow as tf\n",
    "from keras.preprocessing.image import ImageDataGenerator\n",
    "\n",
    "\n",
    "from tensorflow.keras.models import Sequential\n",
    "from tensorflow.keras.layers import InputLayer, BatchNormalization, Dropout, Flatten, Dense, Activation, MaxPooling2D, Conv2D\n",
    "from tensorflow.keras.callbacks import EarlyStopping, ModelCheckpoint\n",
    "\n",
    "from tensorflow.keras.utils import to_categorical\n",
    "from keras import optimizers\n",
    "import keras.backend as K\n",
    "\n",
    "from tensorflow.keras.utils import Sequence\n",
    "\n",
    "from keras.callbacks import Callback,ModelCheckpoint\n",
    "from keras.models import Sequential,load_model\n",
    "from keras.layers import Dense, Dropout\n",
    "\n",
    "\n",
    "\n"
   ]
  },
  {
   "cell_type": "code",
   "execution_count": 2,
   "metadata": {},
   "outputs": [],
   "source": [
    "train_directory = '/Users/KAMAR/Videos/ML/Alzheimer_s Dataset/train/'\n",
    "test_directory = '/Users/KAMAR/Videos/ML/Alzheimer_s Dataset/test'"
   ]
  },
  {
   "cell_type": "code",
   "execution_count": 3,
   "metadata": {},
   "outputs": [],
   "source": [
    "train_Mild_Demented_dir = os.path.join(train_directory, 'Mild_Demented')  # directory with our training Demented pictures\n",
    "train_Moderate_Demented_dir = os.path.join(train_directory, 'Moderate_Demented')# directory with our training NonDemented pictures\n",
    "train_Non_Demented_dir = os.path.join(train_directory,'Non_Demented')\n",
    "train_Very_Mild_Demented_dir = os.path.join(train_directory,'Very_Mild_Demented')\n",
    "test_Mild_Demented_dir = os.path.join(test_directory, 'Mild_Demented')  # directory with our validation Demented pictures\n",
    "test_Moderate_Demented_dir = os.path.join(test_directory, 'Moderate_Demented')  # directory with our validation NonDemented pictures\n",
    "test_Non_Demented_dir = os.path.join(test_directory, 'Non_Demented')\n",
    "test_Very_Mild_Demented_dir = os.path.join(test_directory, 'Very_Mild_Demented')"
   ]
  },
  {
   "cell_type": "code",
   "execution_count": 4,
   "metadata": {},
   "outputs": [],
   "source": [
    "num_Mild_Demented_tr = len(os.listdir(train_Mild_Demented_dir))\n",
    "num_Moderate_Demented_tr = len(os.listdir(train_Moderate_Demented_dir))\n",
    "num_Non_Demented_tr = len(os.listdir(train_Non_Demented_dir))\n",
    "num_Very_Mild_Demented_tr = len(os.listdir(train_Very_Mild_Demented_dir))\n",
    "\n",
    "num_Mild_Demented_te = len(os.listdir(test_Mild_Demented_dir))\n",
    "num_Moderate_Demented_te = len(os.listdir(test_Moderate_Demented_dir))\n",
    "num_Non_Demented_te = len(os.listdir(test_Non_Demented_dir))\n",
    "num_Very_Mild_Demented_te = len(os.listdir(test_Very_Mild_Demented_dir))"
   ]
  },
  {
   "cell_type": "code",
   "execution_count": 5,
   "metadata": {},
   "outputs": [],
   "source": [
    "total_train = num_Mild_Demented_tr + num_Moderate_Demented_tr + num_Non_Demented_tr + num_Very_Mild_Demented_tr\n",
    "total_test = num_Mild_Demented_te + num_Moderate_Demented_te + num_Non_Demented_te + num_Very_Mild_Demented_te"
   ]
  },
  {
   "cell_type": "code",
   "execution_count": 6,
   "metadata": {},
   "outputs": [
    {
     "name": "stdout",
     "output_type": "stream",
     "text": [
      "total training Mild Demented images: 717\n",
      "total training Moderte Demented images: 52\n",
      "total training Non Demented images: 2560\n",
      "total training Very Mild Demented images: 1792\n",
      "total validation Mild Demented images: 179\n",
      "total validation Moderate Demented images: 12\n",
      "total validation Non Demented images: 640\n",
      "total validation Very Mild Demented images: 448\n",
      "--\n",
      "Total training images: 5121\n",
      "Total validation images: 1279\n"
     ]
    }
   ],
   "source": [
    "print('total training Mild Demented images:', num_Mild_Demented_tr)\n",
    "print('total training Moderte Demented images:', num_Moderate_Demented_tr)\n",
    "print('total training Non Demented images:', num_Non_Demented_tr)\n",
    "print('total training Very Mild Demented images:', num_Very_Mild_Demented_tr)\n",
    "\n",
    "print('total validation Mild Demented images:', num_Mild_Demented_te)\n",
    "print('total validation Moderate Demented images:', num_Moderate_Demented_te)\n",
    "print('total validation Non Demented images:', num_Non_Demented_te)\n",
    "print('total validation Very Mild Demented images:', num_Very_Mild_Demented_te)\n",
    "\n",
    "print(\"--\")\n",
    "print(\"Total training images:\", total_train)\n",
    "print(\"Total validation images:\", total_test)"
   ]
  },
  {
   "cell_type": "code",
   "execution_count": 7,
   "metadata": {},
   "outputs": [],
   "source": [
    "# re-size all the images to this\n",
    "image_size= [150,150]\n",
    "batch_size =128\n",
    "epochs =10"
   ]
  },
  {
   "cell_type": "code",
   "execution_count": 8,
   "metadata": {},
   "outputs": [],
   "source": [
    "train_datagen = ImageDataGenerator(rescale = 1./255,\n",
    "                                   validation_split = 0.2,\n",
    "                                  \n",
    "        rotation_range=10,\n",
    "        width_shift_range=0.2,\n",
    "        height_shift_range=0.2,\n",
    "        shear_range=0.2,\n",
    "        zoom_range=0.2,\n",
    "        horizontal_flip=True,\n",
    "        vertical_flip=True,\n",
    "        fill_mode='nearest')\n",
    "\n",
    "valid_datagen= ImageDataGenerator(rescale = 1./255,\n",
    "                                  validation_split = 0.2)\n",
    "\n",
    "test_datagen  = ImageDataGenerator(rescale = 1./255\n",
    "                                  )"
   ]
  },
  {
   "cell_type": "code",
   "execution_count": 9,
   "metadata": {},
   "outputs": [
    {
     "name": "stdout",
     "output_type": "stream",
     "text": [
      "Found 4098 images belonging to 4 classes.\n"
     ]
    }
   ],
   "source": [
    "train_dataset = train_datagen.flow_from_directory(batch_size=batch_size, directory=train_directory,\n",
    "                                                           shuffle=True,subset = 'training',\n",
    "                                                           target_size=image_size,\n",
    "                                                            class_mode = 'categorical')\n",
    "\n",
    "\n",
    "\n"
   ]
  },
  {
   "cell_type": "code",
   "execution_count": 10,
   "metadata": {},
   "outputs": [
    {
     "name": "stdout",
     "output_type": "stream",
     "text": [
      "Found 1023 images belonging to 4 classes.\n"
     ]
    }
   ],
   "source": [
    "valid_dataset = valid_datagen.flow_from_directory(batch_size=batch_size, directory=train_directory,\n",
    "                                                           shuffle=True,subset = 'validation',\n",
    "                                                           target_size=image_size,\n",
    "                                                            class_mode = 'categorical')"
   ]
  },
  {
   "cell_type": "code",
   "execution_count": 11,
   "metadata": {},
   "outputs": [
    {
     "name": "stdout",
     "output_type": "stream",
     "text": [
      "Found 1279 images belonging to 4 classes.\n"
     ]
    }
   ],
   "source": [
    "test_dataset = test_datagen.flow_from_directory(directory = test_directory,\n",
    "                                                  target_size =image_size,\n",
    "                                                  class_mode = 'categorical',\n",
    "                                                  batch_size =batch_size)"
   ]
  },
  {
   "cell_type": "code",
   "execution_count": 12,
   "metadata": {},
   "outputs": [],
   "source": [
    "from keras.applications.vgg19 import VGG19\n",
    "base_model = VGG19(input_shape=image_size + [3], weights='imagenet', include_top=False)"
   ]
  },
  {
   "cell_type": "code",
   "execution_count": 13,
   "metadata": {},
   "outputs": [],
   "source": [
    "model=Sequential()\n",
    "model.add(base_model)\n",
    "model.add(Dropout(0.5))\n",
    "model.add(Flatten())\n",
    "model.add(BatchNormalization())\n",
    "model.add(Dense(1024,kernel_initializer='he_uniform'))\n",
    "model.add(BatchNormalization())\n",
    "model.add(Activation('relu'))\n",
    "model.add(Dropout(0.5))\n",
    "model.add(Dense(1024,kernel_initializer='he_uniform'))\n",
    "model.add(BatchNormalization())\n",
    "model.add(Activation('relu'))\n",
    "model.add(Dropout(0.5))\n",
    "model.add(Dense(1024,kernel_initializer='he_uniform'))\n",
    "model.add(BatchNormalization())\n",
    "model.add(Activation('relu'))\n",
    "model.add(Dropout(0.5))\n",
    "model.add(Dense(4,activation='softmax'))"
   ]
  },
  {
   "cell_type": "code",
   "execution_count": 14,
   "metadata": {},
   "outputs": [],
   "source": [
    "for layer in base_model.layers:\n",
    "  layer.trainable = False"
   ]
  },
  {
   "cell_type": "code",
   "execution_count": 15,
   "metadata": {},
   "outputs": [
    {
     "name": "stdout",
     "output_type": "stream",
     "text": [
      "Model: \"sequential\"\n",
      "_________________________________________________________________\n",
      "Layer (type)                 Output Shape              Param #   \n",
      "=================================================================\n",
      "vgg19 (Functional)           (None, 4, 4, 512)         20024384  \n",
      "_________________________________________________________________\n",
      "dropout (Dropout)            (None, 4, 4, 512)         0         \n",
      "_________________________________________________________________\n",
      "flatten (Flatten)            (None, 8192)              0         \n",
      "_________________________________________________________________\n",
      "batch_normalization (BatchNo (None, 8192)              32768     \n",
      "_________________________________________________________________\n",
      "dense (Dense)                (None, 1024)              8389632   \n",
      "_________________________________________________________________\n",
      "batch_normalization_1 (Batch (None, 1024)              4096      \n",
      "_________________________________________________________________\n",
      "activation (Activation)      (None, 1024)              0         \n",
      "_________________________________________________________________\n",
      "dropout_1 (Dropout)          (None, 1024)              0         \n",
      "_________________________________________________________________\n",
      "dense_1 (Dense)              (None, 1024)              1049600   \n",
      "_________________________________________________________________\n",
      "batch_normalization_2 (Batch (None, 1024)              4096      \n",
      "_________________________________________________________________\n",
      "activation_1 (Activation)    (None, 1024)              0         \n",
      "_________________________________________________________________\n",
      "dropout_2 (Dropout)          (None, 1024)              0         \n",
      "_________________________________________________________________\n",
      "dense_2 (Dense)              (None, 1024)              1049600   \n",
      "_________________________________________________________________\n",
      "batch_normalization_3 (Batch (None, 1024)              4096      \n",
      "_________________________________________________________________\n",
      "activation_2 (Activation)    (None, 1024)              0         \n",
      "_________________________________________________________________\n",
      "dropout_3 (Dropout)          (None, 1024)              0         \n",
      "_________________________________________________________________\n",
      "dense_3 (Dense)              (None, 4)                 4100      \n",
      "=================================================================\n",
      "Total params: 30,562,372\n",
      "Trainable params: 10,515,460\n",
      "Non-trainable params: 20,046,912\n",
      "_________________________________________________________________\n"
     ]
    }
   ],
   "source": [
    "# view the structure of the model\n",
    "model.summary()"
   ]
  },
  {
   "cell_type": "code",
   "execution_count": 16,
   "metadata": {},
   "outputs": [],
   "source": [
    "def f1_score(y_true, y_pred): #taken from old keras source code\n",
    "    true_positives = K.sum(K.round(K.clip(y_true * y_pred, 0, 1)))\n",
    "    possible_positives = K.sum(K.round(K.clip(y_true, 0, 1)))\n",
    "    predicted_positives = K.sum(K.round(K.clip(y_pred, 0, 1)))\n",
    "    precision = true_positives / (predicted_positives + K.epsilon())\n",
    "    recall = true_positives / (possible_positives + K.epsilon())\n",
    "    f1_val = 2*(precision*recall)/(precision+recall+K.epsilon())\n",
    "    return f1_val"
   ]
  },
  {
   "cell_type": "code",
   "execution_count": 17,
   "metadata": {},
   "outputs": [],
   "source": [
    "METRICS = [\n",
    "      tf.keras.metrics.BinaryAccuracy(name='accuracy'),\n",
    "      tf.keras.metrics.Precision(name='precision'),\n",
    "      tf.keras.metrics.Recall(name='recall'),  \n",
    "      tf.keras.metrics.AUC(name='auc'),\n",
    "        f1_score,\n",
    "]"
   ]
  },
  {
   "cell_type": "code",
   "execution_count": 18,
   "metadata": {},
   "outputs": [],
   "source": [
    "def exponential_decay(lr0, s):\n",
    "    def exponential_decay_fn(epoch):\n",
    "        return lr0 * 0.1 **(epoch / s)\n",
    "    return exponential_decay_fn\n",
    "\n",
    "exponential_decay_fn = exponential_decay(0.01, 5) # when i run it for 50 epochs\n",
    "\n",
    "lr_scheduler = tf.keras.callbacks.LearningRateScheduler(exponential_decay_fn)"
   ]
  },
  {
   "cell_type": "code",
   "execution_count": 19,
   "metadata": {},
   "outputs": [],
   "source": [
    "model.compile(optimizer=tf.keras.optimizers.Adam(\n",
    "    learning_rate=0.001, beta_1=0.9, beta_2=0.999, epsilon=1e-07, amsgrad=False,\n",
    "    name='Adam',), loss='categorical_crossentropy',metrics=METRICS)"
   ]
  },
  {
   "cell_type": "code",
   "execution_count": 20,
   "metadata": {},
   "outputs": [
    {
     "name": "stdout",
     "output_type": "stream",
     "text": [
      "Epoch 1/10\n",
      "33/33 [==============================] - 1025s 31s/step - loss: 1.8404 - accuracy: 0.7238 - precision: 0.4395 - recall: 0.3814 - auc: 0.7255 - f1_score: 0.3946 - val_loss: 2.5219 - val_accuracy: 0.7515 - val_precision: 0.5030 - val_recall: 0.4985 - val_auc: 0.7408 - val_f1_score: 0.5007\n",
      "Epoch 2/10\n",
      "33/33 [==============================] - 1019s 31s/step - loss: 1.2999 - accuracy: 0.7412 - precision: 0.4771 - recall: 0.3692 - auc: 0.7502 - f1_score: 0.4182 - val_loss: 1.0520 - val_accuracy: 0.7737 - val_precision: 0.6147 - val_recall: 0.2542 - val_auc: 0.7733 - val_f1_score: 0.3589\n",
      "Epoch 3/10\n",
      "33/33 [==============================] - 1049s 32s/step - loss: 1.2061 - accuracy: 0.7493 - precision: 0.4982 - recall: 0.3697 - auc: 0.7671 - f1_score: 0.4114 - val_loss: 1.0868 - val_accuracy: 0.7805 - val_precision: 0.5943 - val_recall: 0.3851 - val_auc: 0.7851 - val_f1_score: 0.4668\n",
      "Epoch 4/10\n",
      "33/33 [==============================] - 1022s 31s/step - loss: 1.1212 - accuracy: 0.7639 - precision: 0.5397 - recall: 0.3782 - auc: 0.7852 - f1_score: 0.4459 - val_loss: 1.0195 - val_accuracy: 0.7779 - val_precision: 0.6383 - val_recall: 0.2571 - val_auc: 0.7824 - val_f1_score: 0.3656\n",
      "Epoch 5/10\n",
      "33/33 [==============================] - 1016s 31s/step - loss: 1.0722 - accuracy: 0.7671 - precision: 0.5503 - recall: 0.3738 - auc: 0.7940 - f1_score: 0.4462 - val_loss: 0.9994 - val_accuracy: 0.7796 - val_precision: 0.6667 - val_recall: 0.2366 - val_auc: 0.7942 - val_f1_score: 0.3486\n",
      "Epoch 6/10\n",
      "33/33 [==============================] - 1094s 33s/step - loss: 1.0828 - accuracy: 0.7656 - precision: 0.5468 - recall: 0.3638 - auc: 0.7906 - f1_score: 0.4388 - val_loss: 0.9976 - val_accuracy: 0.7825 - val_precision: 0.6455 - val_recall: 0.2884 - val_auc: 0.7946 - val_f1_score: 0.3981\n",
      "Epoch 7/10\n",
      "33/33 [==============================] - 1105s 33s/step - loss: 1.0274 - accuracy: 0.7729 - precision: 0.5695 - recall: 0.3760 - auc: 0.8058 - f1_score: 0.4590 - val_loss: 0.9978 - val_accuracy: 0.7783 - val_precision: 0.6401 - val_recall: 0.2590 - val_auc: 0.7931 - val_f1_score: 0.3682\n",
      "Epoch 8/10\n",
      "33/33 [==============================] - 4151s 126s/step - loss: 1.0346 - accuracy: 0.7749 - precision: 0.5767 - recall: 0.3741 - auc: 0.8035 - f1_score: 0.4600 - val_loss: 1.0039 - val_accuracy: 0.7737 - val_precision: 0.6550 - val_recall: 0.2004 - val_auc: 0.7853 - val_f1_score: 0.3061\n",
      "Epoch 9/10\n",
      "33/33 [==============================] - 1027s 31s/step - loss: 1.0311 - accuracy: 0.7745 - precision: 0.5768 - recall: 0.3682 - auc: 0.8037 - f1_score: 0.4359 - val_loss: 0.9969 - val_accuracy: 0.7749 - val_precision: 0.6386 - val_recall: 0.2297 - val_auc: 0.7930 - val_f1_score: 0.3365\n",
      "Epoch 10/10\n",
      "33/33 [==============================] - 1032s 31s/step - loss: 1.0435 - accuracy: 0.7694 - precision: 0.5626 - recall: 0.3485 - auc: 0.7966 - f1_score: 0.4175 - val_loss: 0.9940 - val_accuracy: 0.7757 - val_precision: 0.6400 - val_recall: 0.2346 - val_auc: 0.7947 - val_f1_score: 0.3426\n"
     ]
    }
   ],
   "source": [
    "history = model.fit( train_dataset, epochs=epochs,\n",
    "                    validation_data=valid_dataset, \n",
    "                    verbose=1, callbacks = lr_scheduler)"
   ]
  },
  {
   "cell_type": "code",
   "execution_count": 21,
   "metadata": {},
   "outputs": [
    {
     "data": {
      "image/png": "[encoded data removed]",
      "text/plain": [
       "<Figure size 1440x360 with 5 Axes>"
      ]
     },
     "metadata": {
      "needs_background": "light"
     },
     "output_type": "display_data"
    }
   ],
   "source": [
    "#%% PLOTTING RESULTS (Train vs Validation FOLDER 1)\n",
    "\n",
    "def Train_Val_Plot(acc,val_acc,loss,val_loss,auc,val_auc,precision,val_precision,f1,val_f1):\n",
    "    \n",
    "    fig, (ax1, ax2,ax3,ax4,ax5) = plt.subplots(1,5, figsize= (20,5))\n",
    "    fig.suptitle(\" MODEL'S METRICS VISUALIZATION \")\n",
    "\n",
    "    ax1.plot(range(1, len(acc) + 1), acc)\n",
    "    ax1.plot(range(1, len(val_acc) + 1), val_acc)\n",
    "    ax1.set_title('History of Accuracy')\n",
    "    ax1.set_xlabel('Epochs')\n",
    "    ax1.set_ylabel('Accuracy')\n",
    "    ax1.legend(['training', 'validation'])\n",
    "\n",
    "\n",
    "    ax2.plot(range(1, len(loss) + 1), loss)\n",
    "    ax2.plot(range(1, len(val_loss) + 1), val_loss)\n",
    "    ax2.set_title('History of Loss')\n",
    "    ax2.set_xlabel('Epochs')\n",
    "    ax2.set_ylabel('Loss')\n",
    "    ax2.legend(['training', 'validation']) \n",
    "    \n",
    "    ax3.plot(range(1, len(auc) + 1), auc)\n",
    "    ax3.plot(range(1, len(val_auc) + 1), val_auc)\n",
    "    ax3.set_title('History of AUC')\n",
    "    ax3.set_xlabel('Epochs')\n",
    "    ax3.set_ylabel('AUC')\n",
    "    ax3.legend(['training', 'validation'])\n",
    "    \n",
    "    ax4.plot(range(1, len(precision) + 1), precision)\n",
    "    ax4.plot(range(1, len(val_precision) + 1), val_precision)\n",
    "    ax4.set_title('History of Precision')\n",
    "    ax4.set_xlabel('Epochs')\n",
    "    ax4.set_ylabel('Precision')\n",
    "    ax4.legend(['training', 'validation'])\n",
    "    \n",
    "    ax5.plot(range(1, len(f1) + 1), f1)\n",
    "    ax5.plot(range(1, len(val_f1) + 1), val_f1)\n",
    "    ax5.set_title('History of F1-score')\n",
    "    ax5.set_xlabel('Epochs')\n",
    "    ax5.set_ylabel('F1 score')\n",
    "    ax5.legend(['training', 'validation'])\n",
    "\n",
    "\n",
    "    plt.show()\n",
    "    \n",
    "\n",
    "Train_Val_Plot(history.history['accuracy'],history.history['val_accuracy'],\n",
    "               history.history['loss'],history.history['val_loss'],\n",
    "               history.history['auc'],history.history['val_auc'],\n",
    "               history.history['precision'],history.history['val_precision'],\n",
    "               history.history['f1_score'],history.history['val_f1_score']\n",
    "              )"
   ]
  },
  {
   "cell_type": "code",
   "execution_count": 22,
   "metadata": {},
   "outputs": [
    {
     "name": "stdout",
     "output_type": "stream",
     "text": [
      "10/10 [==============================] - 232s 23s/step - loss: 1.0176 - accuracy: 0.7766 - precision: 0.5848 - recall: 0.3667 - auc: 0.8155 - f1_score: 0.4505\n"
     ]
    }
   ],
   "source": [
    "scores = model.evaluate(test_dataset)"
   ]
  },
  {
   "cell_type": "code",
   "execution_count": 23,
   "metadata": {},
   "outputs": [
    {
     "name": "stdout",
     "output_type": "stream",
     "text": [
      "Accuracy =  0.7765832543373108\n",
      "Precision =  0.5847880244255066\n",
      "Recall =  0.3666927218437195\n",
      "AUC =  0.8154552578926086\n",
      "F1_score =  0.4504656195640564\n"
     ]
    }
   ],
   "source": [
    "print(\"Accuracy = \", scores[1])\n",
    "print(\"Precision = \", scores[2])\n",
    "print(\"Recall = \", scores[3])\n",
    "print(\"AUC = \", scores[4])\n",
    "print(\"F1_score = \", scores[5])"
   ]
  },
  {
   "cell_type": "code",
   "execution_count": 24,
   "metadata": {},
   "outputs": [],
   "source": [
    "from keras.models import model_from_json"
   ]
  },
  {
   "cell_type": "code",
   "execution_count": 25,
   "metadata": {},
   "outputs": [],
   "source": [
    "model_json = model.to_json()"
   ]
  },
  {
   "cell_type": "code",
   "execution_count": 26,
   "metadata": {},
   "outputs": [],
   "source": [
    "with open('model.json','w') as json_file:\n",
    "    json_file.write(model_json)"
   ]
  },
  {
   "cell_type": "code",
   "execution_count": 27,
   "metadata": {},
   "outputs": [],
   "source": [
    "model.save_weights('modelvgg19.h5')"
   ]
  },
  {
   "cell_type": "code",
   "execution_count": null,
   "metadata": {},
   "outputs": [],
   "source": []
  },
  {
   "cell_type": "code",
   "execution_count": null,
   "metadata": {},
   "outputs": [],
   "source": []
  },
  {
   "cell_type": "code",
   "execution_count": null,
   "metadata": {},
   "outputs": [],
   "source": []
  },
  {
   "cell_type": "code",
   "execution_count": null,
   "metadata": {},
   "outputs": [],
   "source": []
  },
  {
   "cell_type": "code",
   "execution_count": null,
   "metadata": {},
   "outputs": [],
   "source": []
  },
  {
   "cell_type": "code",
   "execution_count": null,
   "metadata": {},
   "outputs": [],
   "source": []
  },
  {
   "cell_type": "code",
   "execution_count": null,
   "metadata": {},
   "outputs": [],
   "source": []
  },
  {
   "cell_type": "code",
   "execution_count": null,
   "metadata": {},
   "outputs": [],
   "source": []
  },
  {
   "cell_type": "code",
   "execution_count": null,
   "metadata": {},
   "outputs": [],
   "source": []
  },
  {
   "cell_type": "code",
   "execution_count": null,
   "metadata": {},
   "outputs": [],
   "source": []
  }
 ],
 "metadata": {
  "kernelspec": {
   "display_name": "Python 3",
   "language": "python",
   "name": "python3"
  },
  "language_info": {
   "codemirror_mode": {
    "name": "ipython",
    "version": 3
   },
   "file_extension": ".py",
   "mimetype": "text/x-python",
   "name": "python",
   "nbconvert_exporter": "python",
   "pygments_lexer": "ipython3",
   "version": "3.6.5"
  }
 },
 "nbformat": 4,
 "nbformat_minor": 4
}
