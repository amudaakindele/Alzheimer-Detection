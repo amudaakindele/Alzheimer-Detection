{
 "cells": [
  {
   "cell_type": "code",
   "execution_count": 1,
   "metadata": {},
   "outputs": [],
   "source": [
    "import numpy as np\n",
    "import pandas as pd\n",
    "import matplotlib.pyplot as plt\n",
    "import seaborn as sn\n",
    "import skimage.io\n",
    "import os \n",
    "import tqdm\n",
    "import glob\n",
    "import tensorflow \n",
    "\n",
    "from tqdm import tqdm\n",
    "from sklearn.utils import shuffle\n",
    "from sklearn import metrics\n",
    "\n",
    "from sklearn.metrics import confusion_matrix, classification_report\n",
    "from sklearn.model_selection import train_test_split\n",
    "\n",
    "from skimage.io import imread, imshow\n",
    "from skimage.transform import resize\n",
    "from skimage.color import grey2rgb\n",
    "\n",
    "import tensorflow as tf\n",
    "from keras.preprocessing.image import ImageDataGenerator\n",
    "\n",
    "\n",
    "from tensorflow.keras.models import Sequential\n",
    "from tensorflow.keras.layers import InputLayer, BatchNormalization, Dropout, Flatten, Dense, Activation, MaxPooling2D, Conv2D\n",
    "from tensorflow.keras.callbacks import EarlyStopping, ModelCheckpoint\n",
    "\\\n",
    "from tensorflow.keras.utils import to_categorical\n",
    "from keras import optimizers\n",
    "\n",
    "from tensorflow.keras.utils import Sequence\n",
    "\n",
    "from keras.callbacks import Callback,ModelCheckpoint\n",
    "from keras.models import Sequential,load_model\n",
    "from keras.layers import Dense, Dropout\n",
    "from keras.wrappers.scikit_learn import KerasClassifier\n",
    "import keras.backend as K\n",
    "\n",
    "\n",
    "from typeguard import typechecked\n",
    "from typing import Optional"
   ]
  },
  {
   "cell_type": "code",
   "execution_count": 2,
   "metadata": {},
   "outputs": [],
   "source": [
    "train_directory = '/Users/KAMAR/Videos/ML/Alzheimer_s Dataset/train/'\n",
    "test_directory = '/Users/KAMAR/Videos/ML/Alzheimer_s Dataset/test'"
   ]
  },
  {
   "cell_type": "code",
   "execution_count": 3,
   "metadata": {},
   "outputs": [],
   "source": [
    "train_Mild_Demented_dir = os.path.join(train_directory, 'Mild_Demented')  # directory with our training Demented pictures\n",
    "train_Moderate_Demented_dir = os.path.join(train_directory, 'Moderate_Demented')# directory with our training NonDemented pictures\n",
    "train_Non_Demented_dir = os.path.join(train_directory,'Non_Demented')\n",
    "train_Very_Mild_Demented_dir = os.path.join(train_directory,'Very_Mild_Demented')\n",
    "test_Mild_Demented_dir = os.path.join(test_directory, 'Mild_Demented')  # directory with our validation Demented pictures\n",
    "test_Moderate_Demented_dir = os.path.join(test_directory, 'Moderate_Demented')  # directory with our validation NonDemented pictures\n",
    "test_Non_Demented_dir = os.path.join(test_directory, 'Non_Demented')\n",
    "test_Very_Mild_Demented_dir = os.path.join(test_directory, 'Very_Mild_Demented')"
   ]
  },
  {
   "cell_type": "code",
   "execution_count": 4,
   "metadata": {},
   "outputs": [],
   "source": [
    "num_Mild_Demented_tr = len(os.listdir(train_Mild_Demented_dir))\n",
    "num_Moderate_Demented_tr = len(os.listdir(train_Moderate_Demented_dir))\n",
    "num_Non_Demented_tr = len(os.listdir(train_Non_Demented_dir))\n",
    "num_Very_Mild_Demented_tr = len(os.listdir(train_Very_Mild_Demented_dir))\n",
    "\n",
    "num_Mild_Demented_te = len(os.listdir(test_Mild_Demented_dir))\n",
    "num_Moderate_Demented_te = len(os.listdir(test_Moderate_Demented_dir))\n",
    "num_Non_Demented_te = len(os.listdir(test_Non_Demented_dir))\n",
    "num_Very_Mild_Demented_te = len(os.listdir(test_Very_Mild_Demented_dir))"
   ]
  },
  {
   "cell_type": "code",
   "execution_count": 5,
   "metadata": {},
   "outputs": [],
   "source": [
    "total_train = num_Mild_Demented_tr + num_Moderate_Demented_tr + num_Non_Demented_tr + num_Very_Mild_Demented_tr\n",
    "total_test = num_Mild_Demented_te + num_Moderate_Demented_te + num_Non_Demented_te + num_Very_Mild_Demented_te"
   ]
  },
  {
   "cell_type": "code",
   "execution_count": 6,
   "metadata": {},
   "outputs": [
    {
     "name": "stdout",
     "output_type": "stream",
     "text": [
      "total training Mild Demented images: 717\n",
      "total training Moderte Demented images: 52\n",
      "total training Non Demented images: 2560\n",
      "total training Very Mild Demented images: 1792\n",
      "total validation Mild Demented images: 179\n",
      "total validation Moderate Demented images: 12\n",
      "total validation Non Demented images: 640\n",
      "total validation Very Mild Demented images: 448\n",
      "--\n",
      "Total training images: 5121\n",
      "Total validation images: 1279\n"
     ]
    }
   ],
   "source": [
    "print('total training Mild Demented images:', num_Mild_Demented_tr)\n",
    "print('total training Moderte Demented images:', num_Moderate_Demented_tr)\n",
    "print('total training Non Demented images:', num_Non_Demented_tr)\n",
    "print('total training Very Mild Demented images:', num_Very_Mild_Demented_tr)\n",
    "\n",
    "print('total validation Mild Demented images:', num_Mild_Demented_te)\n",
    "print('total validation Moderate Demented images:', num_Moderate_Demented_te)\n",
    "print('total validation Non Demented images:', num_Non_Demented_te)\n",
    "print('total validation Very Mild Demented images:', num_Very_Mild_Demented_te)\n",
    "\n",
    "print(\"--\")\n",
    "print(\"Total training images:\", total_train)\n",
    "print(\"Total validation images:\", total_test)"
   ]
  },
  {
   "cell_type": "code",
   "execution_count": 7,
   "metadata": {},
   "outputs": [],
   "source": [
    "# re-size all the images to this\n",
    "image_size= [224,224]\n",
    "batch_size =128\n",
    "epochs =10"
   ]
  },
  {
   "cell_type": "code",
   "execution_count": 8,
   "metadata": {},
   "outputs": [],
   "source": [
    "train_datagen = ImageDataGenerator(rescale = 1./255,\n",
    "                                   validation_split = 0.2,\n",
    "                                  \n",
    "        rotation_range=10,\n",
    "        width_shift_range=0.2,\n",
    "        height_shift_range=0.2,\n",
    "        shear_range=0.2,\n",
    "        zoom_range=0.2,\n",
    "        horizontal_flip=True,\n",
    "        vertical_flip=True,\n",
    "        fill_mode='nearest')\n",
    "\n",
    "valid_datagen= ImageDataGenerator(rescale = 1./255,\n",
    "                                  validation_split = 0.2)\n",
    "\n",
    "test_datagen  = ImageDataGenerator(rescale = 1./255\n",
    "                                  )"
   ]
  },
  {
   "cell_type": "code",
   "execution_count": 9,
   "metadata": {},
   "outputs": [
    {
     "name": "stdout",
     "output_type": "stream",
     "text": [
      "Found 4098 images belonging to 4 classes.\n"
     ]
    }
   ],
   "source": [
    "train_dataset = train_datagen.flow_from_directory(batch_size=batch_size, directory=train_directory,\n",
    "                                                           shuffle=True,subset = 'training',\n",
    "                                                           target_size=image_size,\n",
    "                                                            class_mode = 'categorical')\n",
    "\n",
    "\n",
    "\n"
   ]
  },
  {
   "cell_type": "code",
   "execution_count": 10,
   "metadata": {},
   "outputs": [
    {
     "name": "stdout",
     "output_type": "stream",
     "text": [
      "Found 1023 images belonging to 4 classes.\n"
     ]
    }
   ],
   "source": [
    "valid_dataset = valid_datagen.flow_from_directory(batch_size=batch_size, directory=train_directory,\n",
    "                                                           shuffle=True,subset = 'validation',\n",
    "                                                           target_size=image_size,\n",
    "                                                            class_mode = 'categorical')"
   ]
  },
  {
   "cell_type": "code",
   "execution_count": 11,
   "metadata": {},
   "outputs": [
    {
     "name": "stdout",
     "output_type": "stream",
     "text": [
      "Found 1279 images belonging to 4 classes.\n"
     ]
    }
   ],
   "source": [
    "test_dataset = test_datagen.flow_from_directory(directory = test_directory,\n",
    "                                                  target_size =image_size,\n",
    "                                                  class_mode = 'categorical',\n",
    "                                                  batch_size =batch_size)"
   ]
  },
  {
   "cell_type": "code",
   "execution_count": 12,
   "metadata": {},
   "outputs": [
    {
     "name": "stdout",
     "output_type": "stream",
     "text": [
      "Model: \"sequential\"\n",
      "_________________________________________________________________\n",
      "Layer (type)                 Output Shape              Param #   \n",
      "=================================================================\n",
      "conv2d (Conv2D)              (None, 224, 224, 16)      448       \n",
      "_________________________________________________________________\n",
      "conv2d_1 (Conv2D)            (None, 224, 224, 32)      4640      \n",
      "_________________________________________________________________\n",
      "max_pooling2d (MaxPooling2D) (None, 112, 112, 32)      0         \n",
      "_________________________________________________________________\n",
      "conv2d_2 (Conv2D)            (None, 112, 112, 32)      9248      \n",
      "_________________________________________________________________\n",
      "conv2d_3 (Conv2D)            (None, 112, 112, 64)      18496     \n",
      "_________________________________________________________________\n",
      "max_pooling2d_1 (MaxPooling2 (None, 56, 56, 64)        0         \n",
      "_________________________________________________________________\n",
      "conv2d_4 (Conv2D)            (None, 56, 56, 64)        36928     \n",
      "_________________________________________________________________\n",
      "conv2d_5 (Conv2D)            (None, 56, 56, 128)       73856     \n",
      "_________________________________________________________________\n",
      "max_pooling2d_2 (MaxPooling2 (None, 28, 28, 128)       0         \n",
      "_________________________________________________________________\n",
      "conv2d_6 (Conv2D)            (None, 28, 28, 128)       147584    \n",
      "_________________________________________________________________\n",
      "conv2d_7 (Conv2D)            (None, 28, 28, 128)       147584    \n",
      "_________________________________________________________________\n",
      "max_pooling2d_3 (MaxPooling2 (None, 14, 14, 128)       0         \n",
      "_________________________________________________________________\n",
      "flatten (Flatten)            (None, 25088)             0         \n",
      "_________________________________________________________________\n",
      "dense (Dense)                (None, 32)                802848    \n",
      "_________________________________________________________________\n",
      "dense_1 (Dense)              (None, 32)                1056      \n",
      "_________________________________________________________________\n",
      "dense_2 (Dense)              (None, 32)                1056      \n",
      "_________________________________________________________________\n",
      "dense_3 (Dense)              (None, 32)                1056      \n",
      "_________________________________________________________________\n",
      "dense_4 (Dense)              (None, 4)                 132       \n",
      "_________________________________________________________________\n",
      "activation (Activation)      (None, 4)                 0         \n",
      "=================================================================\n",
      "Total params: 1,244,932\n",
      "Trainable params: 1,244,932\n",
      "Non-trainable params: 0\n",
      "_________________________________________________________________\n"
     ]
    }
   ],
   "source": [
    "def build_model():\n",
    "    \n",
    "    '''Sequential Model creation'''\n",
    "    model = Sequential()\n",
    "    \n",
    "    model.add(Conv2D(16,(3,3),padding='same',input_shape = (224,224,3),activation='relu'))\n",
    "    \n",
    "    model.add(Conv2D(32,(3,3),padding='same',activation='relu'))\n",
    "    model.add(MaxPooling2D(pool_size=(2,2),strides=2,padding = 'same'))\n",
    "    \n",
    "    model.add(Conv2D(32,(3,3),padding='same',activation='relu'))\n",
    "    \n",
    "    \n",
    "    model.add(Conv2D(64,(3,3),padding='same',activation='relu'))\n",
    "    model.add(MaxPooling2D(pool_size=(2,2),strides=2,padding = 'same'))\n",
    "    \n",
    "    model.add(Conv2D(64,(3,3),padding='same',activation='relu'))\n",
    "    \n",
    "    model.add(Conv2D(128,(3,3),padding='same',activation='relu'))\n",
    "    model.add(MaxPooling2D(pool_size=(2,2),strides=2,padding = 'same'))\n",
    "    \n",
    "    model.add(Conv2D(128,(3,3),padding='same',activation='relu'))\n",
    "    \n",
    "    model.add(Conv2D(128,(3,3),padding='same',activation='relu'))\n",
    "    model.add(MaxPooling2D(pool_size=(2,2),strides=2,padding = 'same'))\n",
    "    \n",
    "    \n",
    "    model.add(Flatten())\n",
    "    model.add(Dense(32))\n",
    "    model.add(Dense(32))\n",
    "    model.add(Dense(32))\n",
    "    model.add(Dense(32))\n",
    "    model.add(Dense(4))\n",
    "    model.add(Activation('softmax'))\n",
    "    \n",
    "    return model\n",
    "\n",
    "model = build_model()\n",
    "model.summary()"
   ]
  },
  {
   "cell_type": "code",
   "execution_count": 13,
   "metadata": {},
   "outputs": [],
   "source": [
    "def f1_score(y_true, y_pred): #taken from old keras source code\n",
    "    true_positives = K.sum(K.round(K.clip(y_true * y_pred, 0, 1)))\n",
    "    possible_positives = K.sum(K.round(K.clip(y_true, 0, 1)))\n",
    "    predicted_positives = K.sum(K.round(K.clip(y_pred, 0, 1)))\n",
    "    precision = true_positives / (predicted_positives + K.epsilon())\n",
    "    recall = true_positives / (possible_positives + K.epsilon())\n",
    "    f1_val = 2*(precision*recall)/(precision+recall+K.epsilon())\n",
    "    return f1_val"
   ]
  },
  {
   "cell_type": "code",
   "execution_count": 14,
   "metadata": {},
   "outputs": [],
   "source": [
    "METRICS = [\n",
    "      tf.keras.metrics.BinaryAccuracy(name='accuracy'),\n",
    "      tf.keras.metrics.Precision(name='precision'),\n",
    "      tf.keras.metrics.Recall(name='recall'),  \n",
    "      tf.keras.metrics.AUC(name='auc'),\n",
    "        f1_score,\n",
    "]"
   ]
  },
  {
   "cell_type": "code",
   "execution_count": 15,
   "metadata": {},
   "outputs": [],
   "source": [
    "def exponential_decay(lr0, s):\n",
    "    def exponential_decay_fn(epoch):\n",
    "        return lr0 * 0.1 **(epoch / s)\n",
    "    return exponential_decay_fn\n",
    "\n",
    "exponential_decay_fn = exponential_decay(0.01, 5) # when i run it for 50 epochs\n",
    "\n",
    "lr_scheduler = tf.keras.callbacks.LearningRateScheduler(exponential_decay_fn)"
   ]
  },
  {
   "cell_type": "code",
   "execution_count": 16,
   "metadata": {},
   "outputs": [],
   "source": [
    "model.compile(optimizer=tf.keras.optimizers.Adam(\n",
    "    learning_rate=0.001, beta_1=0.9, beta_2=0.999, epsilon=1e-07, amsgrad=False,\n",
    "    name='Adam',), loss='categorical_crossentropy',metrics=METRICS)"
   ]
  },
  {
   "cell_type": "code",
   "execution_count": 21,
   "metadata": {},
   "outputs": [
    {
     "name": "stdout",
     "output_type": "stream",
     "text": [
      "WARNING:tensorflow:From <ipython-input-21-9f7b977c5cb8>:2: Model.fit_generator (from tensorflow.python.keras.engine.training) is deprecated and will be removed in a future version.\n",
      "Instructions for updating:\n",
      "Please use Model.fit, which supports generators.\n",
      "Epoch 1/10\n",
      "33/33 [==============================] - 1066s 32s/step - loss: 1.1950 - accuracy: 0.7480 - precision: 0.4896 - recall: 0.1835 - auc: 0.7668 - f1_score: 0.1780 - val_loss: 1.0466 - val_accuracy: 0.7500 - val_precision: 0.0000e+00 - val_recall: 0.0000e+00 - val_auc: 0.7804 - val_f1_score: 0.0000e+00\n",
      "Epoch 2/10\n",
      "33/33 [==============================] - 1283s 39s/step - loss: 1.0447 - accuracy: 0.7502 - precision: 0.5010 - recall: 0.2347 - auc: 0.7779 - f1_score: 0.2277 - val_loss: 1.0349 - val_accuracy: 0.7500 - val_precision: 0.0000e+00 - val_recall: 0.0000e+00 - val_auc: 0.7804 - val_f1_score: 0.0000e+00\n",
      "Epoch 3/10\n",
      "33/33 [==============================] - 1302s 39s/step - loss: 1.0417 - accuracy: 0.7491 - precision: 0.4964 - recall: 0.2326 - auc: 0.7793 - f1_score: 0.2256 - val_loss: 1.0352 - val_accuracy: 0.7500 - val_precision: 0.0000e+00 - val_recall: 0.0000e+00 - val_auc: 0.7804 - val_f1_score: 0.0000e+00\n",
      "Epoch 4/10\n",
      "33/33 [==============================] - 1269s 38s/step - loss: 1.0374 - accuracy: 0.7484 - precision: 0.4887 - recall: 0.1374 - auc: 0.7772 - f1_score: 0.1333 - val_loss: 1.0346 - val_accuracy: 0.7500 - val_precision: 0.0000e+00 - val_recall: 0.0000e+00 - val_auc: 0.7804 - val_f1_score: 0.0000e+00\n",
      "Epoch 5/10\n",
      "33/33 [==============================] - 1277s 39s/step - loss: 1.0388 - accuracy: 0.7477 - precision: 0.4918 - recall: 0.2765 - auc: 0.7781 - f1_score: 0.2682 - val_loss: 1.0433 - val_accuracy: 0.7500 - val_precision: 0.0000e+00 - val_recall: 0.0000e+00 - val_auc: 0.7804 - val_f1_score: 0.0000e+00\n",
      "Epoch 6/10\n",
      "33/33 [==============================] - 1280s 39s/step - loss: 1.0407 - accuracy: 0.7517 - precision: 0.5273 - recall: 0.0659 - auc: 0.7807 - f1_score: 0.0639 - val_loss: 1.0353 - val_accuracy: 0.7502 - val_precision: 0.5005 - val_recall: 0.5005 - val_auc: 0.7804 - val_f1_score: 0.5005\n",
      "Epoch 7/10\n",
      "33/33 [==============================] - 1276s 39s/step - loss: 1.0376 - accuracy: 0.7499 - precision: 0.4998 - recall: 0.4998 - auc: 0.7802 - f1_score: 0.5147 - val_loss: 1.0348 - val_accuracy: 0.7502 - val_precision: 0.5005 - val_recall: 0.5005 - val_auc: 0.7804 - val_f1_score: 0.5004\n",
      "Epoch 8/10\n",
      "33/33 [==============================] - 1269s 38s/step - loss: 1.0368 - accuracy: 0.7487 - precision: 0.4972 - recall: 0.4817 - auc: 0.7788 - f1_score: 0.4822 - val_loss: 1.0343 - val_accuracy: 0.7500 - val_precision: 0.0000e+00 - val_recall: 0.0000e+00 - val_auc: 0.7804 - val_f1_score: 0.0000e+00\n",
      "Epoch 9/10\n",
      "33/33 [==============================] - 1342s 41s/step - loss: 1.0366 - accuracy: 0.7500 - precision: 0.0000e+00 - recall: 0.0000e+00 - auc: 0.7777 - f1_score: 0.0000e+00 - val_loss: 1.0343 - val_accuracy: 0.7500 - val_precision: 0.0000e+00 - val_recall: 0.0000e+00 - val_auc: 0.7804 - val_f1_score: 0.0000e+00\n",
      "Epoch 10/10\n",
      "33/33 [==============================] - 1372s 42s/step - loss: 1.0365 - accuracy: 0.7500 - precision: 0.0000e+00 - recall: 0.0000e+00 - auc: 0.7797 - f1_score: 0.0000e+00 - val_loss: 1.0343 - val_accuracy: 0.7500 - val_precision: 0.0000e+00 - val_recall: 0.0000e+00 - val_auc: 0.7804 - val_f1_score: 0.0000e+00\n"
     ]
    }
   ],
   "source": [
    "history = model.fit_generator(\n",
    "    train_dataset, epochs=epochs, validation_data=valid_dataset, verbose=1, callbacks = lr_scheduler)"
   ]
  },
  {
   "cell_type": "code",
   "execution_count": 22,
   "metadata": {},
   "outputs": [
    {
     "data": {
      "image/png": "[encoded data removed]",
      "text/plain": [
       "<Figure size 1440x360 with 5 Axes>"
      ]
     },
     "metadata": {
      "needs_background": "light"
     },
     "output_type": "display_data"
    }
   ],
   "source": [
    "#%% PLOTTING RESULTS (Train vs Validation FOLDER 1)\n",
    "\n",
    "def Train_Val_Plot(acc,val_acc,loss,val_loss,auc,val_auc,precision,val_precision,f1,val_f1):\n",
    "    \n",
    "    fig, (ax1, ax2,ax3,ax4,ax5) = plt.subplots(1,5, figsize= (20,5))\n",
    "    fig.suptitle(\" MODEL'S METRICS VISUALIZATION \")\n",
    "\n",
    "    ax1.plot(range(1, len(acc) + 1), acc)\n",
    "    ax1.plot(range(1, len(val_acc) + 1), val_acc)\n",
    "    ax1.set_title('History of Accuracy')\n",
    "    ax1.set_xlabel('Epochs')\n",
    "    ax1.set_ylabel('Accuracy')\n",
    "    ax1.legend(['training', 'validation'])\n",
    "\n",
    "\n",
    "    ax2.plot(range(1, len(loss) + 1), loss)\n",
    "    ax2.plot(range(1, len(val_loss) + 1), val_loss)\n",
    "    ax2.set_title('History of Loss')\n",
    "    ax2.set_xlabel('Epochs')\n",
    "    ax2.set_ylabel('Loss')\n",
    "    ax2.legend(['training', 'validation'])\n",
    "    \n",
    "    ax3.plot(range(1, len(auc) + 1), auc)\n",
    "    ax3.plot(range(1, len(val_auc) + 1), val_auc)\n",
    "    ax3.set_title('History of AUC')\n",
    "    ax3.set_xlabel('Epochs')\n",
    "    ax3.set_ylabel('AUC')\n",
    "    ax3.legend(['training', 'validation'])\n",
    "    \n",
    "    ax4.plot(range(1, len(precision) + 1), precision)\n",
    "    ax4.plot(range(1, len(val_precision) + 1), val_precision)\n",
    "    ax4.set_title('History of Precision')\n",
    "    ax4.set_xlabel('Epochs')\n",
    "    ax4.set_ylabel('Precision')\n",
    "    ax4.legend(['training', 'validation'])\n",
    "    \n",
    "    ax5.plot(range(1, len(f1) + 1), f1)\n",
    "    ax5.plot(range(1, len(val_f1) + 1), val_f1)\n",
    "    ax5.set_title('History of F1-score')\n",
    "    ax5.set_xlabel('Epochs')\n",
    "    ax5.set_ylabel('F1 score')\n",
    "    ax5.legend(['training', 'validation'])\n",
    "\n",
    "\n",
    "    plt.show()\n",
    "    \n",
    "\n",
    "Train_Val_Plot(history.history['accuracy'],history.history['val_accuracy'],\n",
    "               history.history['loss'],history.history['val_loss'],\n",
    "               history.history['auc'],history.history['val_auc'],\n",
    "               history.history['precision'],history.history['val_precision'],\n",
    "               history.history['f1_score'],history.history['val_f1_score']\n",
    "              )"
   ]
  },
  {
   "cell_type": "code",
   "execution_count": 23,
   "metadata": {},
   "outputs": [],
   "source": [
    "scores = model.evaluate_generator(test_dataset)"
   ]
  },
  {
   "cell_type": "code",
   "execution_count": 24,
   "metadata": {},
   "outputs": [
    {
     "name": "stdout",
     "output_type": "stream",
     "text": [
      "Accuracy =  0.75\n",
      "Precision =  0.0\n",
      "Recall =  0.0\n",
      "AUC =  0.7805577516555786\n",
      "F1_score =  0.0\n"
     ]
    }
   ],
   "source": [
    "print(\"Accuracy = \", scores[1])\n",
    "print(\"Precision = \", scores[2])\n",
    "print(\"Recall = \", scores[3])\n",
    "print(\"AUC = \", scores[4])\n",
    "print(\"F1_score = \", scores[5])"
   ]
  },
  {
   "cell_type": "code",
   "execution_count": null,
   "metadata": {},
   "outputs": [],
   "source": []
  },
  {
   "cell_type": "code",
   "execution_count": null,
   "metadata": {},
   "outputs": [],
   "source": []
  },
  {
   "cell_type": "code",
   "execution_count": null,
   "metadata": {},
   "outputs": [],
   "source": []
  },
  {
   "cell_type": "code",
   "execution_count": null,
   "metadata": {},
   "outputs": [],
   "source": []
  },
  {
   "cell_type": "code",
   "execution_count": null,
   "metadata": {},
   "outputs": [],
   "source": []
  },
  {
   "cell_type": "code",
   "execution_count": null,
   "metadata": {},
   "outputs": [],
   "source": []
  },
  {
   "cell_type": "code",
   "execution_count": null,
   "metadata": {},
   "outputs": [],
   "source": []
  },
  {
   "cell_type": "code",
   "execution_count": null,
   "metadata": {},
   "outputs": [],
   "source": []
  },
  {
   "cell_type": "code",
   "execution_count": null,
   "metadata": {},
   "outputs": [],
   "source": []
  }
 ],
 "metadata": {
  "kernelspec": {
   "display_name": "Python 3",
   "language": "python",
   "name": "python3"
  },
  "language_info": {
   "codemirror_mode": {
    "name": "ipython",
    "version": 3
   },
   "file_extension": ".py",
   "mimetype": "text/x-python",
   "name": "python",
   "nbconvert_exporter": "python",
   "pygments_lexer": "ipython3",
   "version": "3.6.5"
  }
 },
 "nbformat": 4,
 "nbformat_minor": 4
}
